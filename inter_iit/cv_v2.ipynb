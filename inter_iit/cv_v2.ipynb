{
 "cells": [
  {
   "cell_type": "code",
   "execution_count": null,
   "id": "2ad1149e",
   "metadata": {},
   "outputs": [],
   "source": [
    "import os\n",
    "import zipfile\n",
    "from IPython.display import FileLink\n",
    "\n",
    "def zip_directory(directory=\".\", file_name=\"directory.zip\"):\n",
    "    \"\"\"\n",
    "    Zips all files in a directory.\n",
    "\n",
    "    Parameters:\n",
    "    directory (str): The directory to be zipped. Default is the current working directory.\n",
    "    file_name (str): The name of the zipped file (including .zip). Default is 'directory.zip'.\n",
    "\n",
    "    Returns:\n",
    "    FileLink: A hyperlink to download the zip file.\n",
    "    \"\"\"\n",
    "    os.chdir(directory)\n",
    "    zip_ref = zipfile.ZipFile(file_name, mode='w')\n",
    "    for folder, _, files in os.walk(directory):\n",
    "        for file in files:\n",
    "            if file_name in file:\n",
    "                pass\n",
    "            else:\n",
    "                zip_ref.write(os.path.join(folder, file))\n",
    "    zip_ref.close()\n",
    "    return FileLink(file_name)\n",
    "\n",
    "# Example usage:\n",
    "# Assuming your output files are in '/kaggle/working/'\n",
    "# You can call the function like this in a notebook cell:\n",
    "zip_directory(directory=\"/kaggle/working/\", file_name=\"my_output.zip\")"
   ]
  },
  {
   "cell_type": "code",
   "execution_count": null,
   "id": "8f5f7215",
   "metadata": {},
   "outputs": [],
   "source": []
  }
 ],
 "metadata": {
  "language_info": {
   "name": "python"
  }
 },
 "nbformat": 4,
 "nbformat_minor": 5
}
